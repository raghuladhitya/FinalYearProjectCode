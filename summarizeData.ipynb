{
  "nbformat": 4,
  "nbformat_minor": 0,
  "metadata": {
    "colab": {
      "name": "summarizeData.ipynb",
      "provenance": [],
      "authorship_tag": "ABX9TyOFQ+KxBU8VXSZjkIE/fvEw",
      "include_colab_link": true
    },
    "kernelspec": {
      "name": "python3",
      "display_name": "Python 3"
    },
    "language_info": {
      "name": "python"
    }
  },
  "cells": [
    {
      "cell_type": "markdown",
      "metadata": {
        "id": "view-in-github",
        "colab_type": "text"
      },
      "source": [
        "<a href=\"https://colab.research.google.com/github/raghuladhitya/FinalYearProjectCode/blob/main/summarizeData.ipynb\" target=\"_parent\"><img src=\"https://colab.research.google.com/assets/colab-badge.svg\" alt=\"Open In Colab\"/></a>"
      ]
    },
    {
      "cell_type": "code",
      "metadata": {
        "colab": {
          "base_uri": "https://localhost:8080/"
        },
        "id": "1_zIozvQ4R1c",
        "outputId": "ba11948c-9d1d-4866-9f0f-b5f1f826ef03"
      },
      "source": [
        "from google.colab import drive\n",
        "drive.mount('/content/drive')"
      ],
      "execution_count": 1,
      "outputs": [
        {
          "output_type": "stream",
          "text": [
            "Mounted at /content/drive\n"
          ],
          "name": "stdout"
        }
      ]
    },
    {
      "cell_type": "code",
      "metadata": {
        "id": "1zUlZVJuTVb7"
      },
      "source": [
        "pip install spacy"
      ],
      "execution_count": null,
      "outputs": []
    },
    {
      "cell_type": "code",
      "metadata": {
        "id": "3nCp9l32wsJ1"
      },
      "source": [
        "import spacy.cli\n",
        "from string import punctuation\n",
        "from collections import Counter\n",
        "from heapq import nlargest"
      ],
      "execution_count": null,
      "outputs": []
    },
    {
      "cell_type": "code",
      "metadata": {
        "id": "ucH0fssCwwId"
      },
      "source": [
        "nlp = spacy.load('en_core_web_sm')"
      ],
      "execution_count": 31,
      "outputs": []
    },
    {
      "cell_type": "code",
      "metadata": {
        "id": "vdXb8tFBzRYh"
      },
      "source": [
        "def main():\n",
        "    lineList = []\n",
        "    file = open( \"drive/MyDrive/comp_net.srt\", \"r\")\n",
        "    lines = file.readlines()\n",
        "    file.close()\n",
        "\n",
        "    lines = [i for i in lines if i[:-1]]\n",
        "    \n",
        "    for i in lines:\n",
        "        lineList.append(i.strip(\"\\n\"))\n",
        "    FinalLineList,TimeStamp = [],[]\n",
        "    for i in range(len(lineList)):\n",
        "        if(lineList[i].isnumeric()):\n",
        "            for j in range(i+1,len(lineList)):\n",
        "                if(lineList[j].isnumeric()):\n",
        "                     FinalLineList.append(\"\".join(lineList[i+2:j]))\n",
        "                     TimeStamp.append(\"\".join(lineList[i+1]))\n",
        "                     break\n",
        "    \n",
        "    return(\" \".join(FinalLineList))\n",
        "x = main()\n",
        "y = nlp(x)\n",
        "print(y)"
      ],
      "execution_count": null,
      "outputs": []
    },
    {
      "cell_type": "code",
      "metadata": {
        "id": "Ur0izYoMEJcJ"
      },
      "source": [
        "def main():\n",
        "\n",
        "    lineList = []\n",
        "    \n",
        "    # read file line by line\n",
        "    file = open(\"drive/MyDrive/comp_net.txt\",\"r\")\n",
        "    lines = file.readlines()\n",
        "    file.close()\n",
        "\n",
        "    lines = [i for i in lines if i[:-1]]\n",
        "    \n",
        "    # Discount first and second line of each segment using a match pattern\n",
        "    \n",
        "    for i in lines:\n",
        "        lineList.append(i.strip(\"\\n\"))\n",
        "    return(\" \".join(lines))\n",
        "    \n",
        "x = main()\n",
        "y = nlp(x)\n",
        "print(y)"
      ],
      "execution_count": null,
      "outputs": []
    },
    {
      "cell_type": "code",
      "metadata": {
        "colab": {
          "base_uri": "https://localhost:8080/"
        },
        "id": "prGX4KZK203d",
        "outputId": "60f88571-091a-4bc2-c58a-7c4369381e03"
      },
      "source": [
        "print(len(list(y.sents)))"
      ],
      "execution_count": 117,
      "outputs": [
        {
          "output_type": "stream",
          "text": [
            "11\n"
          ],
          "name": "stdout"
        }
      ]
    },
    {
      "cell_type": "code",
      "metadata": {
        "id": "DPwT8Lho3AcX"
      },
      "source": [
        "keyword = []\n",
        "stopwords = list(STOP_WORDS)\n",
        "pos_tag = ['PROPN','ADJ','NOUN','VERB']\n",
        "for token in y:\n",
        "    if(token.text in stopwords or token.text in punctuation):\n",
        "        continue\n",
        "    if(token.pos_ in pos_tag):\n",
        "        keyword.append(token.text)\n",
        "\n",
        "freq_word = Counter(keyword)\n",
        "freq_word.most_common(5)\n",
        "print(freq_word)"
      ],
      "execution_count": null,
      "outputs": []
    },
    {
      "cell_type": "code",
      "metadata": {
        "colab": {
          "base_uri": "https://localhost:8080/"
        },
        "id": "Ws6C26Z08FQn",
        "outputId": "4b3cb177-a72a-43ae-f518-b7ba7398016f"
      },
      "source": [
        "max_freq = Counter(keyword).most_common(1)[0][1]\n",
        "for word in freq_word.keys():  \n",
        "        freq_word[word] = (freq_word[word]/max_freq)\n",
        "freq_word.most_common(5)"
      ],
      "execution_count": 119,
      "outputs": [
        {
          "output_type": "execute_result",
          "data": {
            "text/plain": [
              "[('computer', 1.0),\n",
              " ('devices', 0.7777777777777778),\n",
              " ('network', 0.6296296296296297),\n",
              " ('data', 0.6296296296296297),\n",
              " ('communication', 0.5925925925925926)]"
            ]
          },
          "metadata": {
            "tags": []
          },
          "execution_count": 119
        }
      ]
    },
    {
      "cell_type": "code",
      "metadata": {
        "id": "oWzLOs8g8N5n"
      },
      "source": [
        "sent_strength={}\n",
        "for sent in y.sents:\n",
        "    for word in sent:\n",
        "        if word.text in freq_word.keys():\n",
        "            if sent in sent_strength.keys():\n",
        "                sent_strength[sent]+=freq_word[word.text]\n",
        "            else:\n",
        "                sent_strength[sent]=freq_word[word.text]\n",
        "print(sent_strength)"
      ],
      "execution_count": null,
      "outputs": []
    },
    {
      "cell_type": "code",
      "metadata": {
        "colab": {
          "base_uri": "https://localhost:8080/"
        },
        "id": "FabSTobA8ejA",
        "outputId": "d1f897c4-cf84-45c3-9d16-7b4275ca98df"
      },
      "source": [
        "summarized_sentences = nlargest(1, sent_strength, key=sent_strength.get)\n",
        "print(len(summarized_sentences))\n",
        "print(summarized_sentences)"
      ],
      "execution_count": 129,
      "outputs": [
        {
          "output_type": "stream",
          "text": [
            "1\n",
            "[\n",
            " I shall highlight the important words\n",
            " they are the key words of this\n",
            " definition the key words are nodes and\n",
            " communication links firstly we'll\n",
            " concentrate on nodes a node can be a\n",
            " computer printer or any other device\n",
            " capable of sending or receiving data say\n",
            " you have a device if the device can send\n",
            " data or receive data or both send and\n",
            " receive data then we can call that\n",
            " devices and node so a node can be a\n",
            " computer printer or any device but the\n",
            " important point to note here is that\n",
            " device should be capable enough in\n",
            " sending or receiving the data we shall\n",
            " see some examples for nodes obviously a\n",
            " computer is a node because a computer\n",
            " can send data as well as receive data a\n",
            " server printer security camera and many\n",
            " devices like switches bridges and\n",
            " routers are also called as nodes we will\n",
            " be dealing about switches bridges and\n",
            " routers in the upcoming lectures now we\n",
            " are done with nodes we'll concentrate on\n",
            " what are communication links a\n",
            " communication link can be a wired link\n",
            " wireless link the important point to\n",
            " note about the link is that this link\n",
            " only carries the information if you\n",
            " don't understand anything out of this\n",
            " just wait for this example see this\n",
            " example now there are two computers we\n",
            " can call these two computers as knows\n",
            " why because these two computers can send\n",
            " data as well as receive data now these\n",
            " nodes are going to exchange their\n",
            " information but for exchanging the\n",
            " information they are depending upon this\n",
            " cable where this cable is still linked\n",
            " now obviously a cable is a physical\n",
            " medium]\n"
          ],
          "name": "stdout"
        }
      ]
    },
    {
      "cell_type": "code",
      "metadata": {
        "colab": {
          "base_uri": "https://localhost:8080/"
        },
        "id": "kewfl7Fu8nOT",
        "outputId": "08f79a73-1798-49a9-99d1-abd5056454ce"
      },
      "source": [
        "final_sentences = [ w.text for w in summarized_sentences ]\n",
        "summary = ' '.join(final_sentences)\n",
        "print(len(x))\n",
        "print(len(summary))\n"
      ],
      "execution_count": 126,
      "outputs": [
        {
          "output_type": "stream",
          "text": [
            "9224\n",
            "1554\n"
          ],
          "name": "stdout"
        }
      ]
    },
    {
      "cell_type": "code",
      "metadata": {
        "colab": {
          "base_uri": "https://localhost:8080/"
        },
        "id": "oAr6KGbDBWWP",
        "outputId": "6690fb18-94d1-41b9-cd4f-968ba84e5289"
      },
      "source": [
        "from gensim.summarization import summarize\n",
        "print(len(summarize(x)))"
      ],
      "execution_count": 128,
      "outputs": [
        {
          "output_type": "stream",
          "text": [
            "1802\n"
          ],
          "name": "stdout"
        }
      ]
    },
    {
      "cell_type": "code",
      "metadata": {
        "id": "hPVofNPKQY5W"
      },
      "source": [
        "file = open( \"drive/MyDrive/computer_network.txt\", \"w+\")\n",
        "lines = file.writelines(summary)\n",
        "file.close()"
      ],
      "execution_count": 131,
      "outputs": []
    }
  ]
}