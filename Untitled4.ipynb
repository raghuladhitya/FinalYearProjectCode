{
  "nbformat": 4,
  "nbformat_minor": 0,
  "metadata": {
    "colab": {
      "name": "Untitled4.ipynb",
      "provenance": [],
      "authorship_tag": "ABX9TyNkN/B/OSTCJvs6jj4EpzfN",
      "include_colab_link": true
    },
    "kernelspec": {
      "name": "python3",
      "display_name": "Python 3"
    },
    "language_info": {
      "name": "python"
    }
  },
  "cells": [
    {
      "cell_type": "markdown",
      "metadata": {
        "id": "view-in-github",
        "colab_type": "text"
      },
      "source": [
        "<a href=\"https://colab.research.google.com/github/raghuladhitya/FinalYearProjectCode/blob/main/Untitled4.ipynb\" target=\"_parent\"><img src=\"https://colab.research.google.com/assets/colab-badge.svg\" alt=\"Open In Colab\"/></a>"
      ]
    },
    {
      "cell_type": "code",
      "metadata": {
        "colab": {
          "base_uri": "https://localhost:8080/"
        },
        "id": "1_zIozvQ4R1c",
        "outputId": "9b2fd6fe-b433-459e-9510-e80f5077e157"
      },
      "source": [
        "from google.colab import drive\n",
        "drive.mount('/content/drive')"
      ],
      "execution_count": 2,
      "outputs": [
        {
          "output_type": "stream",
          "text": [
            "Mounted at /content/drive\n"
          ],
          "name": "stdout"
        }
      ]
    },
    {
      "cell_type": "code",
      "metadata": {
        "id": "z6DHqsSy5Bpi"
      },
      "source": [
        "def main():\n",
        "    # Access folder in filesystem\n",
        "\n",
        "    # After parsing content of file, move to next file\n",
        "\n",
        "    # Declare variable empty list\n",
        "    lineList = []\n",
        "\n",
        "    # read file line by line\n",
        "    file = open( \"drive/MyDrive/new_file.srt\", \"r\")\n",
        "    lines = file.readlines()\n",
        "    file.close()\n",
        "\n",
        "    # look for patterns and parse\n",
        "\n",
        "    # Remove blank lines from file\n",
        "    lines = [i for i in lines if i[:-1]]\n",
        "    \n",
        "    # Discount first and second line of each segment using a match pattern\n",
        "    for i in lines:\n",
        "        lineList.append(i.strip(\"\\n\"))\n",
        "    FinalLineList,TimeStamp = [],[]\n",
        "    for i in range(len(lineList)):\n",
        "        if(lineList[i].isnumeric()):\n",
        "            for j in range(i+1,len(lineList)):\n",
        "                if(lineList[j].isnumeric()):\n",
        "                     FinalLineList.append(\"\".join(lineList[i+2:j]))\n",
        "                     TimeStamp.append(\"\".join(lineList[i+1]))\n",
        "                     break\n",
        "    print(TimeStamp)\n",
        "    print(FinalLineList)\n",
        "    \n",
        "\n",
        "main()\n",
        "\n"
      ],
      "execution_count": null,
      "outputs": []
    }
  ]
}