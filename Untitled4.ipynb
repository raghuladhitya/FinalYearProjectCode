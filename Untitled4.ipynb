{
  "nbformat": 4,
  "nbformat_minor": 0,
  "metadata": {
    "colab": {
      "name": "Untitled4.ipynb",
      "provenance": [],
      "authorship_tag": "ABX9TyNdBrzTFFDUO6ILbKGSm5SR",
      "include_colab_link": true
    },
    "kernelspec": {
      "name": "python3",
      "display_name": "Python 3"
    },
    "language_info": {
      "name": "python"
    }
  },
  "cells": [
    {
      "cell_type": "markdown",
      "metadata": {
        "id": "view-in-github",
        "colab_type": "text"
      },
      "source": [
        "<a href=\"https://colab.research.google.com/github/raghuladhitya/FinalYearProjectCode/blob/main/Untitled4.ipynb\" target=\"_parent\"><img src=\"https://colab.research.google.com/assets/colab-badge.svg\" alt=\"Open In Colab\"/></a>"
      ]
    },
    {
      "cell_type": "code",
      "metadata": {
        "colab": {
          "base_uri": "https://localhost:8080/"
        },
        "id": "1_zIozvQ4R1c",
        "outputId": "ba11948c-9d1d-4866-9f0f-b5f1f826ef03"
      },
      "source": [
        "from google.colab import drive\n",
        "drive.mount('/content/drive')"
      ],
      "execution_count": 1,
      "outputs": [
        {
          "output_type": "stream",
          "text": [
            "Mounted at /content/drive\n"
          ],
          "name": "stdout"
        }
      ]
    },
    {
      "cell_type": "code",
      "metadata": {
        "id": "1zUlZVJuTVb7"
      },
      "source": [
        "pip install spacy"
      ],
      "execution_count": null,
      "outputs": []
    },
    {
      "cell_type": "code",
      "metadata": {
        "id": "3nCp9l32wsJ1"
      },
      "source": [
        "import spacy.cli\n",
        "from string import punctuation\n",
        "from collections import Counter\n",
        "from heapq import nlargest"
      ],
      "execution_count": null,
      "outputs": []
    },
    {
      "cell_type": "code",
      "metadata": {
        "id": "ucH0fssCwwId"
      },
      "source": [
        "nlp = spacy.load('en_core_web_sm')"
      ],
      "execution_count": 31,
      "outputs": []
    },
    {
      "cell_type": "code",
      "metadata": {
        "id": "vdXb8tFBzRYh"
      },
      "source": [
        "def main():\n",
        "    # Access folder in filesystem\n",
        "    # After parsing content of file, move to next file\n",
        "    # Declare variable empty list\n",
        "\n",
        "    lineList = []\n",
        "    \n",
        "    # read file line by line\n",
        "    \n",
        "    file = open( \"drive/MyDrive/trignometry.srt\", \"r\")\n",
        "    lines = file.readlines()\n",
        "    file.close()\n",
        "\n",
        "    # look for patterns and parse\n",
        "    # Remove blank lines from file\n",
        "\n",
        "    lines = [i for i in lines if i[:-1]]\n",
        "    \n",
        "    # Discount first and second line of each segment using a match pattern\n",
        "    \n",
        "    for i in lines:\n",
        "        lineList.append(i.strip(\"\\n\"))\n",
        "    FinalLineList,TimeStamp = [],[]\n",
        "    for i in range(len(lineList)):\n",
        "        if(lineList[i].isnumeric()):\n",
        "            for j in range(i+1,len(lineList)):\n",
        "                if(lineList[j].isnumeric()):\n",
        "                     FinalLineList.append(\"\".join(lineList[i+2:j]))\n",
        "                     TimeStamp.append(\"\".join(lineList[i+1]))\n",
        "                     break\n",
        "    \n",
        "    return(\" \".join(FinalLineList))\n",
        "    \n",
        "\n",
        "x = main()\n",
        "y = nlp(x)\n",
        "print(y)"
      ],
      "execution_count": null,
      "outputs": []
    },
    {
      "cell_type": "code",
      "metadata": {
        "colab": {
          "base_uri": "https://localhost:8080/"
        },
        "id": "prGX4KZK203d",
        "outputId": "38c2bd8d-56cc-48b9-a579-e2e82de6cf6c"
      },
      "source": [
        "print(len(list(y.sents)))"
      ],
      "execution_count": 57,
      "outputs": [
        {
          "output_type": "stream",
          "text": [
            "19\n"
          ],
          "name": "stdout"
        }
      ]
    },
    {
      "cell_type": "code",
      "metadata": {
        "id": "DPwT8Lho3AcX"
      },
      "source": [
        "keyword = []\n",
        "stopwords = list(STOP_WORDS)\n",
        "pos_tag = ['PROPN','ADJ','NOUN','VERB']\n",
        "for token in y:\n",
        "    if(token.text in stopwords or token.text in punctuation):\n",
        "        continue\n",
        "    if(token.pos_ in pos_tag):\n",
        "        keyword.append(token.text)\n",
        "\n",
        "freq_word = Counter(keyword)\n",
        "freq_word.most_common(5)\n",
        "print(freq_word)"
      ],
      "execution_count": null,
      "outputs": []
    },
    {
      "cell_type": "code",
      "metadata": {
        "colab": {
          "base_uri": "https://localhost:8080/"
        },
        "id": "Ws6C26Z08FQn",
        "outputId": "28a14398-8b2a-456f-f59d-d0941610e0e4"
      },
      "source": [
        "max_freq = Counter(keyword).most_common(1)[0][1]\n",
        "for word in freq_word.keys():  \n",
        "        freq_word[word] = (freq_word[word]/max_freq)\n",
        "freq_word.most_common(5)"
      ],
      "execution_count": 59,
      "outputs": [
        {
          "output_type": "execute_result",
          "data": {
            "text/plain": [
              "[('theta', 1.0),\n",
              " ('sine', 0.7954545454545454),\n",
              " ('adjacent', 0.75),\n",
              " ('opposite', 0.7045454545454546),\n",
              " ('cosine', 0.6363636363636364)]"
            ]
          },
          "metadata": {
            "tags": []
          },
          "execution_count": 59
        }
      ]
    },
    {
      "cell_type": "code",
      "metadata": {
        "id": "oWzLOs8g8N5n"
      },
      "source": [
        "sent_strength={}\n",
        "for sent in y.sents:\n",
        "    for word in sent:\n",
        "        if word.text in freq_word.keys():\n",
        "            if sent in sent_strength.keys():\n",
        "                sent_strength[sent]+=freq_word[word.text]\n",
        "            else:\n",
        "                sent_strength[sent]=freq_word[word.text]\n",
        "print(sent_strength)"
      ],
      "execution_count": null,
      "outputs": []
    },
    {
      "cell_type": "code",
      "metadata": {
        "id": "FabSTobA8ejA"
      },
      "source": [
        "summarized_sentences = nlargest(3, sent_strength, key=sent_strength.get)\n",
        "print(summarized_sentences)"
      ],
      "execution_count": null,
      "outputs": []
    },
    {
      "cell_type": "code",
      "metadata": {
        "colab": {
          "base_uri": "https://localhost:8080/"
        },
        "id": "kewfl7Fu8nOT",
        "outputId": "554a8472-1976-4170-f7d7-9f35a77e089e"
      },
      "source": [
        "final_sentences = [ w.text for w in summarized_sentences ]\n",
        "summary = ' '.join(final_sentences)\n",
        "print(len(x))\n",
        "print(len(summary))"
      ],
      "execution_count": 66,
      "outputs": [
        {
          "output_type": "stream",
          "text": [
            "14170\n",
            "5451\n"
          ],
          "name": "stdout"
        }
      ]
    }
  ]
}