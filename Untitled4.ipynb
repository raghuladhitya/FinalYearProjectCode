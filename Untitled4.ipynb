{
  "nbformat": 4,
  "nbformat_minor": 0,
  "metadata": {
    "colab": {
      "name": "Untitled4.ipynb",
      "provenance": [],
      "authorship_tag": "ABX9TyM//6LCf3jmyECb68r3Q4R2",
      "include_colab_link": true
    },
    "kernelspec": {
      "name": "python3",
      "display_name": "Python 3"
    },
    "language_info": {
      "name": "python"
    }
  },
  "cells": [
    {
      "cell_type": "markdown",
      "metadata": {
        "id": "view-in-github",
        "colab_type": "text"
      },
      "source": [
        "<a href=\"https://colab.research.google.com/github/raghuladhitya/FinalYearProjectCode/blob/main/Untitled4.ipynb\" target=\"_parent\"><img src=\"https://colab.research.google.com/assets/colab-badge.svg\" alt=\"Open In Colab\"/></a>"
      ]
    },
    {
      "cell_type": "code",
      "metadata": {
        "colab": {
          "base_uri": "https://localhost:8080/"
        },
        "id": "1_zIozvQ4R1c",
        "outputId": "ba11948c-9d1d-4866-9f0f-b5f1f826ef03"
      },
      "source": [
        "from google.colab import drive\n",
        "drive.mount('/content/drive')"
      ],
      "execution_count": 1,
      "outputs": [
        {
          "output_type": "stream",
          "text": [
            "Mounted at /content/drive\n"
          ],
          "name": "stdout"
        }
      ]
    },
    {
      "cell_type": "code",
      "metadata": {
        "id": "1zUlZVJuTVb7"
      },
      "source": [
        "pip install spacy"
      ],
      "execution_count": null,
      "outputs": []
    },
    {
      "cell_type": "code",
      "metadata": {
        "id": "3nCp9l32wsJ1"
      },
      "source": [
        "import spacy.cli\n",
        "from string import punctuation\n",
        "from collections import Counter\n",
        "from heapq import nlargest"
      ],
      "execution_count": null,
      "outputs": []
    },
    {
      "cell_type": "code",
      "metadata": {
        "id": "ucH0fssCwwId"
      },
      "source": [
        "nlp = spacy.load('en_core_web_sm')"
      ],
      "execution_count": 31,
      "outputs": []
    },
    {
      "cell_type": "code",
      "metadata": {
        "colab": {
          "base_uri": "https://localhost:8080/"
        },
        "id": "vdXb8tFBzRYh",
        "outputId": "e36d5e28-9927-4e43-b55f-53a4d65ad024"
      },
      "source": [
        "def main():\n",
        "    # Access folder in filesystem\n",
        "    # After parsing content of file, move to next file\n",
        "    # Declare variable empty list\n",
        "\n",
        "    lineList = []\n",
        "    \n",
        "    # read file line by line\n",
        "    \n",
        "    file = open( \"drive/MyDrive/trignometry.srt\", \"r\")\n",
        "    lines = file.readlines()\n",
        "    file.close()\n",
        "\n",
        "    # look for patterns and parse\n",
        "    # Remove blank lines from file\n",
        "\n",
        "    lines = [i for i in lines if i[:-1]]\n",
        "    \n",
        "    # Discount first and second line of each segment using a match pattern\n",
        "    \n",
        "    for i in lines:\n",
        "        lineList.append(i.strip(\"\\n\"))\n",
        "    FinalLineList,TimeStamp = [],[]\n",
        "    for i in range(len(lineList)):\n",
        "        if(lineList[i].isnumeric()):\n",
        "            for j in range(i+1,len(lineList)):\n",
        "                if(lineList[j].isnumeric()):\n",
        "                     FinalLineList.append(\"\".join(lineList[i+2:j]))\n",
        "                     TimeStamp.append(\"\".join(lineList[i+1]))\n",
        "                     break\n",
        "    \n",
        "    return(\" \".join(FinalLineList))\n",
        "    \n",
        "\n",
        "x = main()\n",
        "y = nlp(x)\n",
        "print(y)"
      ],
      "execution_count": 56,
      "outputs": [
        {
          "output_type": "stream",
          "text": [
            "have you ever heard of the expression sohcahtoa what do you think this expression means in this lesson we're going to focus on right triangle trigonometry let's say if this is the angle theta now there's three sides of this triangle that it needs to be familiar with opposite to theta this is the opposite side and next to the angle theta is the adjacent side and across the box or the right angle of the triangle which is die upon this that's the longer side of the triangle now if you recall this is a B and C the Pythagorean theorem applies to right triangles a squared plus B squared is equal to C squared but we're not going to focus on that too much but just be familiar with that equation now let's talk about the six trig functions in terms of sine cosine tangent opposite adjacent hypotenuse sine theta according to sohcahtoa S is for sine o is for opposite H is for hypotenuse sine theta is equal to the opposite side divided by the hypotenuse cosine theta is equal to the adjacent side divided by the hypotenuse Club is 4 cosine is adjacent over hypotenuse and tangent theta Toa is equal to the opposite side divided by the adjacent side so that's the tangent ratio it's opposite over adjacent now we know that cosecant is 1 over sine so cosecant is basically hypotenuse divided by the opposite side you just need to flip this particular fraction secant is the reciprocal of cosine so secant is going to be hypotenuse divided by the adjacent side cotangent is the reciprocal of tangent so if tangent is opposite over adjacent tangent is adjacent divided by the opposite side now let's say if we're given a right triangle and we have the value of two sides let's say this is 3 and this is 4 and here's the angle theta find a missing side of this right triangle and then find the values of all six trigonometric functions sine cosine tangent secant cosecant cotangent now to find the missing side we need to use the Pythagorean theorem a squared plus B squared is equal to C squared so a is 3 B is 4 and we got to find missing side C which is iphone use 3 squared is 9 4 squared is 16 9 plus 16 is 25 and if you take the square root of both sides you can see that the ipod uses 5 now it turns out that there are some special numbers there's a 3 4 5 right triangle the 5 12 13 right triangle the 8 15 17 right triangle and a 7 24 25 right triangle and any whole number ratios or multiples of these numbers will also work for example if we multiply this by 2 we'll get 6 8 10 that can also work or if you multiply it by 3 you get the 9 12 15 triangle if you multiply this 1 by 2 you get 2 10 24 26 triangle those are also special triplets they work with any right triangle now some other numbers that are less common but you might see are the 9 40 41 triangle and the 11 60 61 so if you see some of these numbers you can find them inside quickly if you know them so now let's finish this problem so what is the value of sine theta so according to soap we know that sine theta is equal to the opposite side divided by the adjacent side and the part so Soh opposite to theta is four and I potenuse is five so therefore sine theta is going to be 4/5 now close link data is equal to the adjacent side divided by the hypotenuse so we said four is the opposite side five these avenues and three is the adjacent side so in this case it's going to be three divided by five so that's the value of cosine now let's find the value of tangent tangent theta according to Toa is equal to the opposite side divided by the adjacent side so that's going to be 4/3 so that's the value of tangent now once we have these three we can easily find the other three to find cosecant it's run over sine so just flip this fraction is going to be five over four and secant is the reciprocal of cosine so flip this fraction see Ken is going to be five over three cotangent is a reciprocal of tangent so of co'tin I mean if Pangea is 4 over 3 cotangent is going to be three before and that's how you can find the value of the six trigonometric functions let's try another problem so let's say this is theta again and this side is eight and this side is 17 find the missing side and then use the complete a triangle to find the value of the six trigonometric functions so go ahead and pause the video and work on this problem so first we need to know that this is the 8/15 17 triangle if you ever forget you can fall back to this equation so a is 8 we're looking for the missing side B and the hypotenuse is 17 8 squared is 64 and 17 squared is 2 89 - 89 minus 64 is 225 and we need to take the square root of both sides and the square root of 225 is 15 which gives us the missing side of the triangle so now go ahead and find the value of sine theta cosine theta tangent theta and then cosecant theta secant theta and cotangent theta so using sohcahtoa we know that sine is equal to the opposite side divided by the hypotenuse so let's label all the three sides 17 is the hypotenuse 8 is the adjacent side and opposite of theta is 15 so opposite over hypotenuse this is going to be 15 divided by 17 so that is the value of sine theta now cosine theta is going to be equal to the adjacent side divided by the hypotenuse so the adjacent side is 8 they have hot uses 17 so cosine theta is 8 over 17 tangent based on Toa is going to be opposite over adjacent so opposite is 15 adjacent is 8 therefore tangent it's going to be 15 divided by 8 now cosecant is the reciprocal of sine so sine theta is 15 over 17 cosecant is going to be 17 over 15 secant is the reciprocal of cosine so if cosign is 8 over 17 secant is 17 over 8 you just got to flip it and coq10 is a reciprocal of tangent so cotangent going to be 8 over 15 just slip this fraction and now we have the values of the six trigonometric functions and that's all you got to do so here's a different problem so let's say here's our right angle and this time this is Theta and let's say the hypotenuse is 25 and this side is 15 find the miss inside and then go ahead and find the value of the six trigonometric functions so this is going to be similar to the 3 4 5 triangle notice that if we multiply everything by five we'll get two of the three numbers that we need three times five is 15 four times five is twenty five times five is 25 so we have the 15 and we have the 25 therefore the missing side must be twenty and you can use the Pythagorean theorem to confirm this if you want to so now let's go ahead and find the value of sine theta so opposite to theta is 20 the hypotenuse is always across the box is the longer side so 27 is I botanist and adjacent to 15 or right next to it is 15 I mean adjacent so theta is 15 now sine theta we know it's opposite / hypotenuse so it's 20 over 25 which reduces to 4 over 5 if we divide both numbers by 5 20 divided by this 5 is 4 25 divided by 5 is 5 cosine theta is adjacent over hypotenuse so that's 15 divided by 25 which reduces to 3/5 tangent theta is opposite over adjacent so 20 over 15 which becomes if you divide by 5 so that's going to be 4 over 3 now cosecant is the reciprocal of sine so it's going to be 5 over 4 based on this value and if cosine is 3 over 5 and then secant the reciprocal of cosine has to be 5/3 now if tangent is 4 over 3 cotangent has to be 3/4 and so that's it fit is from consider the right triangle and this right triangle find the missing side in this case find the value of x let's say the angle is 38 degrees and this side is 42 so what trig function should you use in order to find the value of x should we use sine cosine or tangent well relative to 38 we have the opposite side which is X and the adjacent side which is 42 so tangent we know it's opposite over adjacent so therefore tangent of the angle 38 degrees is equal to the opposite side X divided by the adjacent side 42 so in order to get X by itself we need to multiply both sides by 42 so these will cancel so therefore X is equal to 42 tangent of 38 so we need to use the calculator to get this answer and make sure your calculator is in degree mode so tan 38 which is point seven eight one three and let's multiply that by 42 so this will give you an x value of thirty two point eight now let's try another example feel free to pause the video to work on each of these problems by the way so let's say this angle is 54 degrees and we're looking for the value of x and ipod misses 26 which trig function should we use sine cosine of tangent so opposites the right angle we know it's the hypotenuse and X is on the adjacent side relative to 54 so cosine is associated with adjacent and hypotenuse so therefore cosine of the angle 54 is equal to the adjacent side X divided by hypotenuse of 26 so to get to X by itself without a multiply both sides by 26 so therefore X is equal to 26 cosine of 54 degrees cosine 54 is point five eight seven seven 85 if you multiply that by 26 this will give us the value of x which is 15 point 28 here's another one that we could try let's say the angle is 32 degrees and the hypotenuse is X and this is 12 so notice that 12 is opposite to 32 and we have the hypotenuse so this time we need to use the sine function sine of the angle 32 is equal to the opposite side 12 divided by X so in this case what can we do to find the value of x what would you do what I would do is cross multiply so 1 times 12 is 12 and this is going to equal x times sine 32 next I recommend dividing both sides by sine 30 - sine 32 divided by itself is 1 so therefore X is equal to 12 over sine 32 12 divided by sine 32 is 22 point 64 so that's the value of x in this particular problem now let's work on another problem so this time we need to find the angle theta and we're given these two sides so five is opposite to the angle and 4 is adjacent to it so what trig function can relate theta four and five we know tangent is opposite over adjacent so tangent of the angle theta is equal to the opposite side which is five divided by the adjacent side 4 so how can we find the value of the angle theta if tangent theta is 5 over 4 then theta is going to be the inverse tangent or arctangent of 5 over 4 and you simply have to type this in your calculator so type in our 10 5 over 4 and you should get an angle of 51 point 34 degrees so that's how you can find the missing angle let's try another example feel free to pause the video and find a misson angle so in this case we have the adjacent side and we have the hypotenuse so therefore this is associative cosine cosine theta is equal to the adjacent side divided by the hypotenuse so if cosine theta is equal to 3/7 theta is going to be our cosine 3 over 7 and once again you have to use your calculator to figure this out because without a calculator out of you know what this answer is and this is going to be 64 point 62 degrees so here's another one for you let's say this is 5 then this is 6 go ahead and find the value of theta so that I potenuse is 6 opposite to theta is 5 so we know sine is associated with opposite hypotenuse sine theta is equal to the opposite side which is 5 divided by the hypotenuse which is 6 therefore theta is the arc sine or inverse sine of 5 over 6 and so the angle is going to be 56 point 4 4 degrees and that's it that's all you got to do to find the missing angle of a right triangle for those of you who might be interested in my trigonometry course here's how you can access it so go to udemy calm and once you're there enter into the search box trigonometry now this is the course I've recently created so I haven't finished added in all the sections that I want to add so in time I'm going to do that right now the page is accessible on the you can find a course on the second page and here it is trigonometry the unit circle angles and right triangles is basically the one with the dark background and a circle with a triangle inside the circle so let's look at the curriculum in the first section I'm going to go over angles radians how to convert degrees to radians coterminal angles how to convert DMS to decimal degrees arc length area of a sector of a circle linear speed and angular speed word problems and also if you need to take the time that's shown on the clock and if you needs to convert it to an angle measure I cover that in this section as well and then at the end of each section is a video quiz the next section is about being a circle the six trig functions sine cosine tangent secant cosecant coat on and also reference angles as well after that you have right triangle trigonometry things like sohcahtoa the special right triangles like the 30-60-90 triangle you need to know that so you can evaluate sine and cosine functions without using the unit circle next I'm going to talk about how to solve angle of elevation and depression problems and just solving the missing sides of right triangles after that trigonometric functions is any angle and then you graph in trig functions you need to know how to graph the sine and cosine functions secant cosecant and tangent as well after that inverse trig functions you need to know how to evaluate it and also how to graph it to an addition you need to know how to graph or evaluate composition of trig functions so example you might have sine of inverse cosine of 3 over 4 or something like that and you can use a right triangle to solve those types of problems you'll see when you access that section after that applications of trig functions solving problems to have two right triangles in it and Berens as well one of the hardest sections in trig is this section verifying trig identities so that's a that's a hard one so make sure you spend some time learning that section after that summer difference formulas double angle half angle power reducing formulas product to some sums of product and also solving trig equations but there are still some sections I'm going to add to this course like for example law of sines law of cosines polar coordinates and some other topics as well so about two thirds of the course is finished so far and for most students this is just what they need intrigued but in time you'll see more so now you know how to access the course and if you have any questions let me know\n"
          ],
          "name": "stdout"
        }
      ]
    },
    {
      "cell_type": "code",
      "metadata": {
        "colab": {
          "base_uri": "https://localhost:8080/"
        },
        "id": "prGX4KZK203d",
        "outputId": "38c2bd8d-56cc-48b9-a579-e2e82de6cf6c"
      },
      "source": [
        "print(len(list(y.sents)))"
      ],
      "execution_count": 57,
      "outputs": [
        {
          "output_type": "stream",
          "text": [
            "19\n"
          ],
          "name": "stdout"
        }
      ]
    },
    {
      "cell_type": "code",
      "metadata": {
        "colab": {
          "base_uri": "https://localhost:8080/"
        },
        "id": "DPwT8Lho3AcX",
        "outputId": "f2a132a8-f18e-441c-cd6d-8edac9e380d5"
      },
      "source": [
        "keyword = []\n",
        "stopwords = list(STOP_WORDS)\n",
        "pos_tag = ['PROPN','ADJ','NOUN','VERB']\n",
        "for token in y:\n",
        "    if(token.text in stopwords or token.text in punctuation):\n",
        "        continue\n",
        "    if(token.pos_ in pos_tag):\n",
        "        keyword.append(token.text)\n",
        "\n",
        "freq_word = Counter(keyword)\n",
        "freq_word.most_common(5)\n",
        "print(freq_word)"
      ],
      "execution_count": 58,
      "outputs": [
        {
          "output_type": "stream",
          "text": [
            "Counter({'theta': 44, 'sine': 35, 'adjacent': 33, 'opposite': 31, 'cosine': 28, 'tangent': 28, 'going': 27, 'angle': 26, 'hypotenuse': 26, 'find': 26, 'triangle': 25, 'divided': 25, 'let': 22, 'right': 21, 'equal': 21, 'value': 21, 'know': 17, 'need': 15, 'functions': 14, 'trig': 12, 'missing': 11, 'use': 11, 'sides': 10, 'squared': 10, 'cosecant': 10, 'secant': 10, 'degrees': 10, 'X': 10, 'reciprocal': 9, 'multiply': 8, 'point': 8, 'cotangent': 7, 'time': 7, 'section': 7, 'trigonometric': 6, 'numbers': 6, 'work': 6, 'problem': 6, 'course': 6, 'circle': 6, 'trigonometry': 5, 'B': 5, 'triangles': 5, 'example': 5, 'times': 5, 'calculator': 5, 'problems': 5, 'sohcahtoa': 4, 'C': 4, 'flip': 4, 'fraction': 4, 'got': 4, 'case': 4, 'try': 4, 'video': 4, 'function': 4, 'inverse': 4, 'angles': 4, 'graph': 4, 'box': 3, 'Pythagorean': 3, 'theorem': 3, 'according': 3, 'Toa': 3, 'square': 3, 'root': 3, 'special': 3, 'pause': 3, 'access': 3, 'sections': 3, 'convert': 3, 'evaluate': 3, 'solving': 3, 'expression': 2, 'focus': 2, 'needs': 2, 'familiar': 2, 'longer': 2, 'equation': 2, 'talk': 2, 'particular': 2, 'given': 2, 'values': 2, 'ipod': 2, 'uses': 2, 'potenuse': 2, 'mean': 2, 'looking': 2, 'based': 2, 'notice': 2, 'want': 2, 'reduces': 2, 'divide': 2, 'order': 2, 'relative': 2, 'answer': 2, 'sure': 2, 'feel': 2, 'free': 2, 'associated': 2, 'type': 2, 'arc': 2, 'add': 2, 'page': 2, 'unit': 2, 'radians': 2, 'speed': 2, 'solve': 2, 'formulas': 2, 'product': 2, 'law': 2, 'heard': 1, 'think': 1, 'means': 1, 'lesson': 1, 'die': 1, 'recall': 1, 'applies': 1, 'terms': 1, 'S': 1, 'o': 1, 'H': 1, 'Club': 1, 'ratio': 1, 'iphone': 1, 'turns': 1, 'number': 1, 'ratios': 1, 'multiples': 1, 'triplets': 1, 'common': 1, 'finish': 1, 'soap': 1, 'Soh': 1, 'close': 1, 'link': 1, 'data': 1, 'said': 1, 'avenues': 1, 'run': 1, 'Ken': 1, \"co'tin\": 1, 'Pangea': 1, 'complete': 1, 'forget': 1, 'fall': 1, 'minus': 1, 'gives': 1, 'label': 1, 'hot': 1, 'cosign': 1, 'coq10': 1, 'slip': 1, 'different': 1, 'Theta': 1, 'miss': 1, 'similar': 1, 'confirm': 1, 'botanist': 1, 'fit': 1, 'consider': 1, 'cancel': 1, 'degree': 1, 'mode': 1, 'tan': 1, 'way': 1, 'misses': 1, 'opposites': 1, 'cross': 1, 'recommend': 1, 'dividing': 1, 'relate': 1, 'arctangent': 1, 'misson': 1, 'associative': 1, 'figure': 1, 'interested': 1, 'udemy': 1, 'calm': 1, 'enter': 1, 'search': 1, 'created': 1, 'added': 1, 'accessible': 1, 'second': 1, 'dark': 1, 'background': 1, 'look': 1, 'curriculum': 1, 'coterminal': 1, 'DMS': 1, 'decimal': 1, 'length': 1, 'area': 1, 'sector': 1, 'linear': 1, 'angular': 1, 'word': 1, 'shown': 1, 'clock': 1, 'measure': 1, 'cover': 1, 'end': 1, 'quiz': 1, 'coat': 1, 'reference': 1, 'things': 1, 'elevation': 1, 'depression': 1, 'addition': 1, 'composition': 1, 'types': 1, 'applications': 1, 'Berens': 1, 'hardest': 1, 'verifying': 1, 'identities': 1, 'hard': 1, 'spend': 1, 'learning': 1, 'summer': 1, 'difference': 1, 'double': 1, 'half': 1, 'power': 1, 'reducing': 1, 'sums': 1, 'equations': 1, 'sines': 1, 'cosines': 1, 'polar': 1, 'coordinates': 1, 'topics': 1, 'thirds': 1, 'finished': 1, 'students': 1, 'intrigued': 1, 'questions': 1})\n"
          ],
          "name": "stdout"
        }
      ]
    },
    {
      "cell_type": "code",
      "metadata": {
        "colab": {
          "base_uri": "https://localhost:8080/"
        },
        "id": "Ws6C26Z08FQn",
        "outputId": "28a14398-8b2a-456f-f59d-d0941610e0e4"
      },
      "source": [
        "max_freq = Counter(keyword).most_common(1)[0][1]\n",
        "for word in freq_word.keys():  \n",
        "        freq_word[word] = (freq_word[word]/max_freq)\n",
        "freq_word.most_common(5)"
      ],
      "execution_count": 59,
      "outputs": [
        {
          "output_type": "execute_result",
          "data": {
            "text/plain": [
              "[('theta', 1.0),\n",
              " ('sine', 0.7954545454545454),\n",
              " ('adjacent', 0.75),\n",
              " ('opposite', 0.7045454545454546),\n",
              " ('cosine', 0.6363636363636364)]"
            ]
          },
          "metadata": {
            "tags": []
          },
          "execution_count": 59
        }
      ]
    },
    {
      "cell_type": "code",
      "metadata": {
        "colab": {
          "base_uri": "https://localhost:8080/"
        },
        "id": "oWzLOs8g8N5n",
        "outputId": "da4c527b-268f-4906-bae0-101d17b6bd1e"
      },
      "source": [
        "sent_strength={}\n",
        "for sent in y.sents:\n",
        "    for word in sent:\n",
        "        if word.text in freq_word.keys():\n",
        "            if sent in sent_strength.keys():\n",
        "                sent_strength[sent]+=freq_word[word.text]\n",
        "            else:\n",
        "                sent_strength[sent]=freq_word[word.text]\n",
        "print(sent_strength)"
      ],
      "execution_count": 60,
      "outputs": [
        {
          "output_type": "stream",
          "text": [
            "{have you ever heard of the expression sohcahtoa what do you think this expression means in this lesson we're going to focus on right triangle trigonometry let's say if this is the angle theta now there's three sides of this triangle that it needs to be familiar with opposite to theta this is the opposite side and next to the angle theta is the adjacent side and across the box or the right angle of the triangle which is die upon this that's the longer side of the triangle now if you recall this is a B and C the Pythagorean theorem applies to right triangles a squared plus B squared is equal to C squared: 14.500000000000002, but we're not going to focus on that too much but just be familiar with that equation now let's talk about the six trig functions in terms of sine cosine tangent opposite adjacent hypotenuse sine theta according to sohcahtoa S is for sine o is for opposite H is for hypotenuse sine theta is equal to the opposite side divided by the hypotenuse cosine theta is equal to the adjacent side divided by the hypotenuse Club is 4 cosine is adjacent over hypotenuse and tangent theta Toa is equal to the opposite side divided by the adjacent side so that's the tangent ratio it's opposite over adjacent now we know that cosecant is 1 over sine so cosecant is basically hypotenuse divided by the opposite side you just need to flip this particular fraction secant is the reciprocal of cosine so secant is going to be hypotenuse divided by the adjacent side cotangent is the reciprocal of tangent: 35.499999999999986, so if tangent is opposite over adjacent tangent is adjacent divided by the opposite side now let's say if we're given a right triangle and we have the value of two sides let's say this is 3 and this is 4 and here's the angle theta find a missing side of this right triangle and then find the values of all six trigonometric functions sine cosine tangent secant cosecant cotangent now to find the missing side we need to use the Pythagorean theorem a squared plus B squared is equal to C squared so a is 3 B is 4 and we got to find missing side C which is iphone use 3 squared is 9 4 squared is 16 9 plus 16 is 25 and if you take the square root of both sides you can see that the ipod uses 5 now it turns out that there are some special numbers there's a 3 4 5 right triangle the 5 12 13 right triangle the 8 15 17 right triangle and a 7 24 25 right triangle and any whole number ratios or multiples of these numbers will also work for example if we multiply this by 2 we'll get 6 8 10 that can also work or if you multiply it by 3 you get the 9 12 15 triangle if you multiply this 1 by 2 you get 2 10 24 26 triangle those are also special triplets they work with any right triangle now some other numbers that are less common but you might see are the 9 40 41 triangle and the 11 60 61 so if you see some of these numbers you can find them inside quickly if you know them so now let's finish this problem so what is the value of sine theta so according to soap we know that sine theta is equal to the opposite side divided by the adjacent side and: 37.545454545454525, the part so Soh opposite to theta is four and I potenuse is five so therefore sine theta is going to be 4/5 now close link data is equal to the adjacent side divided by the hypotenuse so we said four is the opposite side five these avenues and three is the adjacent side so in this case it's going to be three divided by five so that's the value of cosine now let's find the value of tangent tangent theta according to Toa is equal to the opposite side divided by the adjacent side so that's going to be 4/3 so that's the value of tangent now once we have these three we can easily find the other three to find cosecant it's run over sine so just flip this fraction is going to be five over four and secant is the reciprocal of cosine so flip this fraction see Ken is going to be five over three cotangent is a reciprocal of tangent so of co'tin: 24.659090909090903, I mean if Pangea is 4 over 3 cotangent is going to be three before and that's how you can find the value of the six trigonometric functions let's try another problem so let's say this is theta again and this side is eight and this side is 17 find the missing side and then use the complete a triangle to find the value of the six trigonometric functions so go ahead and pause the video and work on this problem so first we need to know that this is the 8/15 17 triangle if you ever forget you can fall back to this equation so a is 8 we're looking for the missing side B and the hypotenuse is 17 8 squared is 64 and 17 squared is 2 89 - 89 minus 64 is 225 and we need to take the square root of both sides and the square root of 225 is 15 which gives us the missing side of the triangle so now go ahead and find the value of sine theta cosine theta tangent theta and then cosecant theta secant theta and cotangent theta so using sohcahtoa we know that sine is equal to the opposite side divided by the hypotenuse so let's label all the three sides 17 is the hypotenuse 8 is the adjacent side and opposite of theta is 15 so opposite over hypotenuse this is going to be 15 divided by 17 so that is the value of sine theta now cosine theta is going to be equal to the adjacent side divided by the hypotenuse so the adjacent side is 8 they have hot uses 17 so cosine theta is 8 over 17 tangent based on Toa is going to be opposite over adjacent so opposite is 15 adjacent is 8 therefore tangent: 46.68181818181818, it's going to be 15 divided by 8 now cosecant is the reciprocal of sine so sine theta is 15 over 17 cosecant is going to be 17 over 15 secant is the reciprocal of cosine: 6.113636363636364, so if cosign is 8 over 17 secant is 17 over 8 you just got to flip it and coq10 is a reciprocal of tangent: 1.2954545454545454, so cotangent going to be 8 over 15 just slip this fraction and now we have the values of the six trigonometric functions and that's all you got to do so here's a different problem so let's say here's our right angle and this time this is Theta and let's say the hypotenuse is 25 and this side is 15 find the miss inside and then go ahead and find the value of the six trigonometric functions so this is going to be similar to the 3 4 5 triangle notice that if we multiply everything by five we'll get two of the three numbers that we need three times five is 15 four times five is twenty five times five is 25 so we have the 15 and we have the 25 therefore the missing side must be twenty: 9.113636363636365, and you can use the Pythagorean theorem to confirm this if you want to so now let's go ahead and find the value of sine theta so opposite to theta is 20 the hypotenuse is always across the box is the longer side so 27 is I botanist and adjacent to 15 or right next to it is 15 I mean adjacent so theta is 15 now sine theta we know it's opposite / hypotenuse: 12.750000000000002, so it's 20 over 25 which reduces to 4 over 5 if we divide both numbers by 5 20 divided by this 5 is 4 25 divided by 5 is 5 cosine theta is adjacent over hypotenuse so that's 15 divided by 25 which reduces to 3/5 tangent theta is opposite over adjacent so 20 over 15 which becomes if you divide by 5 so that's going to be 4 over 3 now cosecant is the reciprocal of sine so it's going to be 5 over 4 based on this value and if cosine is 3 over 5 and then secant the reciprocal of cosine has to be 5/3 now if tangent is 4 over 3 cotangent has to be 3/4: 13.568181818181817, and so that's it fit is from consider the right triangle: 1.0909090909090908, and this right triangle find the missing side in this case find the value of x let's say the angle is 38 degrees and this side is 42 so what trig function should you use in order to find the value of x should we use sine cosine or tangent well relative to 38 we have the opposite side which is X and the adjacent side which is 42 so tangent: 10.772727272727273, we know it's opposite over adjacent so therefore tangent of the angle 38 degrees is equal to the opposite side X divided by the adjacent side 42 so in order to get X by itself we need to multiply both sides by 42 so these will cancel so therefore X is equal to 42 tangent of 38: 8.40909090909091, so we need to use the calculator to get this answer and make sure your calculator is in degree mode so tan 38 which is point seven eight one three and let's multiply that by 42 so this will give you an x value of thirty two point eight now let's try another example feel free to pause the video to work on each of these problems by the way so let's say this angle is 54 degrees and we're looking for the value of x and ipod misses 26 which trig function should we use sine cosine of tangent so opposites the right angle we know it's the hypotenuse and X is on the adjacent side relative to 54 so cosine is associated with adjacent and hypotenuse so therefore cosine of the angle 54 is equal to the adjacent side X divided by hypotenuse of 26 so to get to X by itself without a multiply both sides by 26: 17.90909090909091, so therefore X is equal to 26 cosine of 54 degrees cosine 54 is point five eight seven seven 85 if you multiply that by 26 this will give us the value of x which is 15 point 28 here's another one that we could try let's say the angle is 32 degrees and the hypotenuse is X and this is 12 so notice that 12 is opposite to 32 and we have the hypotenuse so this time we need to use the sine function sine of the angle 32 is equal to the opposite side 12 divided by X so in this case what can we do to find the value of x what would you do what I would do is cross: 12.97727272727273, multiply so 1 times 12 is 12 and this is going to equal x times sine 32 next I recommend dividing both sides by sine 30 - sine 32 divided by itself is 1 so therefore X is equal to 12 over sine 32 12 divided by sine 32 is 22 point 64 so that's the value of x in this particular problem now let's work on another problem so this time we need to find the angle theta and we're given these two sides so five is opposite to the angle and 4 is adjacent to it so what trig function can relate theta four and five we know tangent is opposite over adjacent so tangent of the angle theta is equal to the opposite side which is five divided by the adjacent side 4 so how can we find the value of the angle theta if tangent theta is 5 over 4 then theta is going to be the inverse tangent or arctangent of 5 over 4 and you simply have to type this in your calculator so type in our 10 5 over 4 and you should get an angle of 51 point 34 degrees so that's how you can find the missing angle let's try another example feel free to pause the video and find a misson angle so in this case we have the adjacent side and we have the hypotenuse so therefore this is associative cosine cosine theta is equal to the adjacent side divided by the hypotenuse so if cosine theta is equal to 3/7 theta is going to be our cosine 3 over 7 and once again you have to use your calculator to figure this out because without a calculator out of you know what this answer is and this is going to be 64 point 62 degrees so here's another one for you let's say this is 5 then this is 6 go ahead and find the value of theta so that I potenuse is 6 opposite to theta is 5: 51.00000000000002, so we know sine is associated with opposite hypotenuse sine theta is equal to the opposite side which is 5 divided by the hypotenuse which is 6 therefore theta is the arc sine or inverse sine of 5 over 6 and so the angle is going to be 56 point 4 4 degrees and that's it that's all you got to do to find the missing angle of a right triangle for those of you who might be interested in my trigonometry course here's how you can access it so go to udemy calm and once you're there enter into the search box trigonometry now this is the course I've recently created so I haven't finished added in all the sections that I want to add so in time I'm going to do that right now the page is accessible on the you can find a course on the second page and here it is trigonometry the unit circle angles and right triangles is basically the one with the dark background and a circle with a triangle inside the circle so let's look at the curriculum in the first section I'm going to go over angles radians how to convert degrees to radians coterminal angles how to convert DMS to decimal degrees arc length area of a sector of a circle linear speed and angular speed word problems and also if you need to take the time that's shown on the clock and if you needs to convert it to an angle measure I cover that in this section as well and then at the end of each section is a video quiz the next section is about being a circle the six trig functions sine cosine tangent secant cosecant coat on and also reference angles as well after that you have right triangle trigonometry things like sohcahtoa the special right triangles like the 30-60-90 triangle you need to know that so you can evaluate sine and cosine functions without using the unit circle next I'm going to talk about how to solve angle of elevation and depression problems and just solving the missing sides of right triangles after that trigonometric functions is any angle and then you graph in trig functions you need to know how to graph the sine and cosine functions secant cosecant and tangent as well after that inverse trig functions you need to know how to evaluate it and also how to graph it to an addition you need to know how to graph or evaluate composition of trig functions so example you might have sine of inverse cosine of 3 over 4 or something like that: 44.52272727272732, and you can use a right triangle to solve those types of problems you'll see when you access that section after that applications of trig functions solving problems to have two right triangles in it and Berens as well one of the hardest sections in trig is this section verifying trig identities so that's a: 3.9545454545454564, that's a hard one so make sure you spend some time learning that section after that summer difference formulas double angle half angle power reducing formulas product to some sums of product and also solving trig equations but there are still some sections I'm going to add to this course like for example law of sines law of cosines polar coordinates and some other topics as well so about two thirds of the course is finished so far and for most students this is just what they need intrigued but in time you'll see more so now you know how to access the course and if you have any questions let me know: 5.727272727272729}\n"
          ],
          "name": "stdout"
        }
      ]
    },
    {
      "cell_type": "code",
      "metadata": {
        "colab": {
          "base_uri": "https://localhost:8080/"
        },
        "id": "FabSTobA8ejA",
        "outputId": "44cba8d0-f019-4c73-cccd-1c75bf81338e"
      },
      "source": [
        "summarized_sentences = nlargest(3, sent_strength, key=sent_strength.get)\n",
        "print(summarized_sentences)"
      ],
      "execution_count": 61,
      "outputs": [
        {
          "output_type": "stream",
          "text": [
            "[multiply so 1 times 12 is 12 and this is going to equal x times sine 32 next I recommend dividing both sides by sine 30 - sine 32 divided by itself is 1 so therefore X is equal to 12 over sine 32 12 divided by sine 32 is 22 point 64 so that's the value of x in this particular problem now let's work on another problem so this time we need to find the angle theta and we're given these two sides so five is opposite to the angle and 4 is adjacent to it so what trig function can relate theta four and five we know tangent is opposite over adjacent so tangent of the angle theta is equal to the opposite side which is five divided by the adjacent side 4 so how can we find the value of the angle theta if tangent theta is 5 over 4 then theta is going to be the inverse tangent or arctangent of 5 over 4 and you simply have to type this in your calculator so type in our 10 5 over 4 and you should get an angle of 51 point 34 degrees so that's how you can find the missing angle let's try another example feel free to pause the video and find a misson angle so in this case we have the adjacent side and we have the hypotenuse so therefore this is associative cosine cosine theta is equal to the adjacent side divided by the hypotenuse so if cosine theta is equal to 3/7 theta is going to be our cosine 3 over 7 and once again you have to use your calculator to figure this out because without a calculator out of you know what this answer is and this is going to be 64 point 62 degrees so here's another one for you let's say this is 5 then this is 6 go ahead and find the value of theta so that I potenuse is 6 opposite to theta is 5, I mean if Pangea is 4 over 3 cotangent is going to be three before and that's how you can find the value of the six trigonometric functions let's try another problem so let's say this is theta again and this side is eight and this side is 17 find the missing side and then use the complete a triangle to find the value of the six trigonometric functions so go ahead and pause the video and work on this problem so first we need to know that this is the 8/15 17 triangle if you ever forget you can fall back to this equation so a is 8 we're looking for the missing side B and the hypotenuse is 17 8 squared is 64 and 17 squared is 2 89 - 89 minus 64 is 225 and we need to take the square root of both sides and the square root of 225 is 15 which gives us the missing side of the triangle so now go ahead and find the value of sine theta cosine theta tangent theta and then cosecant theta secant theta and cotangent theta so using sohcahtoa we know that sine is equal to the opposite side divided by the hypotenuse so let's label all the three sides 17 is the hypotenuse 8 is the adjacent side and opposite of theta is 15 so opposite over hypotenuse this is going to be 15 divided by 17 so that is the value of sine theta now cosine theta is going to be equal to the adjacent side divided by the hypotenuse so the adjacent side is 8 they have hot uses 17 so cosine theta is 8 over 17 tangent based on Toa is going to be opposite over adjacent so opposite is 15 adjacent is 8 therefore tangent, so we know sine is associated with opposite hypotenuse sine theta is equal to the opposite side which is 5 divided by the hypotenuse which is 6 therefore theta is the arc sine or inverse sine of 5 over 6 and so the angle is going to be 56 point 4 4 degrees and that's it that's all you got to do to find the missing angle of a right triangle for those of you who might be interested in my trigonometry course here's how you can access it so go to udemy calm and once you're there enter into the search box trigonometry now this is the course I've recently created so I haven't finished added in all the sections that I want to add so in time I'm going to do that right now the page is accessible on the you can find a course on the second page and here it is trigonometry the unit circle angles and right triangles is basically the one with the dark background and a circle with a triangle inside the circle so let's look at the curriculum in the first section I'm going to go over angles radians how to convert degrees to radians coterminal angles how to convert DMS to decimal degrees arc length area of a sector of a circle linear speed and angular speed word problems and also if you need to take the time that's shown on the clock and if you needs to convert it to an angle measure I cover that in this section as well and then at the end of each section is a video quiz the next section is about being a circle the six trig functions sine cosine tangent secant cosecant coat on and also reference angles as well after that you have right triangle trigonometry things like sohcahtoa the special right triangles like the 30-60-90 triangle you need to know that so you can evaluate sine and cosine functions without using the unit circle next I'm going to talk about how to solve angle of elevation and depression problems and just solving the missing sides of right triangles after that trigonometric functions is any angle and then you graph in trig functions you need to know how to graph the sine and cosine functions secant cosecant and tangent as well after that inverse trig functions you need to know how to evaluate it and also how to graph it to an addition you need to know how to graph or evaluate composition of trig functions so example you might have sine of inverse cosine of 3 over 4 or something like that]\n"
          ],
          "name": "stdout"
        }
      ]
    },
    {
      "cell_type": "code",
      "metadata": {
        "colab": {
          "base_uri": "https://localhost:8080/"
        },
        "id": "kewfl7Fu8nOT",
        "outputId": "052f3ac7-b096-431c-c271-5c675ccd10e6"
      },
      "source": [
        "final_sentences = [ w.text for w in summarized_sentences ]\n",
        "summary = ' '.join(final_sentences)\n",
        "print(summary)\n",
        "print(len(summary))"
      ],
      "execution_count": 64,
      "outputs": [
        {
          "output_type": "stream",
          "text": [
            "multiply so 1 times 12 is 12 and this is going to equal x times sine 32 next I recommend dividing both sides by sine 30 - sine 32 divided by itself is 1 so therefore X is equal to 12 over sine 32 12 divided by sine 32 is 22 point 64 so that's the value of x in this particular problem now let's work on another problem so this time we need to find the angle theta and we're given these two sides so five is opposite to the angle and 4 is adjacent to it so what trig function can relate theta four and five we know tangent is opposite over adjacent so tangent of the angle theta is equal to the opposite side which is five divided by the adjacent side 4 so how can we find the value of the angle theta if tangent theta is 5 over 4 then theta is going to be the inverse tangent or arctangent of 5 over 4 and you simply have to type this in your calculator so type in our 10 5 over 4 and you should get an angle of 51 point 34 degrees so that's how you can find the missing angle let's try another example feel free to pause the video and find a misson angle so in this case we have the adjacent side and we have the hypotenuse so therefore this is associative cosine cosine theta is equal to the adjacent side divided by the hypotenuse so if cosine theta is equal to 3/7 theta is going to be our cosine 3 over 7 and once again you have to use your calculator to figure this out because without a calculator out of you know what this answer is and this is going to be 64 point 62 degrees so here's another one for you let's say this is 5 then this is 6 go ahead and find the value of theta so that I potenuse is 6 opposite to theta is 5 I mean if Pangea is 4 over 3 cotangent is going to be three before and that's how you can find the value of the six trigonometric functions let's try another problem so let's say this is theta again and this side is eight and this side is 17 find the missing side and then use the complete a triangle to find the value of the six trigonometric functions so go ahead and pause the video and work on this problem so first we need to know that this is the 8/15 17 triangle if you ever forget you can fall back to this equation so a is 8 we're looking for the missing side B and the hypotenuse is 17 8 squared is 64 and 17 squared is 2 89 - 89 minus 64 is 225 and we need to take the square root of both sides and the square root of 225 is 15 which gives us the missing side of the triangle so now go ahead and find the value of sine theta cosine theta tangent theta and then cosecant theta secant theta and cotangent theta so using sohcahtoa we know that sine is equal to the opposite side divided by the hypotenuse so let's label all the three sides 17 is the hypotenuse 8 is the adjacent side and opposite of theta is 15 so opposite over hypotenuse this is going to be 15 divided by 17 so that is the value of sine theta now cosine theta is going to be equal to the adjacent side divided by the hypotenuse so the adjacent side is 8 they have hot uses 17 so cosine theta is 8 over 17 tangent based on Toa is going to be opposite over adjacent so opposite is 15 adjacent is 8 therefore tangent so we know sine is associated with opposite hypotenuse sine theta is equal to the opposite side which is 5 divided by the hypotenuse which is 6 therefore theta is the arc sine or inverse sine of 5 over 6 and so the angle is going to be 56 point 4 4 degrees and that's it that's all you got to do to find the missing angle of a right triangle for those of you who might be interested in my trigonometry course here's how you can access it so go to udemy calm and once you're there enter into the search box trigonometry now this is the course I've recently created so I haven't finished added in all the sections that I want to add so in time I'm going to do that right now the page is accessible on the you can find a course on the second page and here it is trigonometry the unit circle angles and right triangles is basically the one with the dark background and a circle with a triangle inside the circle so let's look at the curriculum in the first section I'm going to go over angles radians how to convert degrees to radians coterminal angles how to convert DMS to decimal degrees arc length area of a sector of a circle linear speed and angular speed word problems and also if you need to take the time that's shown on the clock and if you needs to convert it to an angle measure I cover that in this section as well and then at the end of each section is a video quiz the next section is about being a circle the six trig functions sine cosine tangent secant cosecant coat on and also reference angles as well after that you have right triangle trigonometry things like sohcahtoa the special right triangles like the 30-60-90 triangle you need to know that so you can evaluate sine and cosine functions without using the unit circle next I'm going to talk about how to solve angle of elevation and depression problems and just solving the missing sides of right triangles after that trigonometric functions is any angle and then you graph in trig functions you need to know how to graph the sine and cosine functions secant cosecant and tangent as well after that inverse trig functions you need to know how to evaluate it and also how to graph it to an addition you need to know how to graph or evaluate composition of trig functions so example you might have sine of inverse cosine of 3 over 4 or something like that\n",
            "5451\n"
          ],
          "name": "stdout"
        }
      ]
    }
  ]
}