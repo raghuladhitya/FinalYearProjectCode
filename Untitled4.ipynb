{
  "nbformat": 4,
  "nbformat_minor": 0,
  "metadata": {
    "colab": {
      "name": "Untitled4.ipynb",
      "provenance": [],
      "authorship_tag": "ABX9TyNkN/B/OSTCJvs6jj4EpzfN",
      "include_colab_link": true
    },
    "kernelspec": {
      "name": "python3",
      "display_name": "Python 3"
    },
    "language_info": {
      "name": "python"
    }
  },
  "cells": [
    {
      "cell_type": "markdown",
      "metadata": {
        "id": "view-in-github",
        "colab_type": "text"
      },
      "source": [
        "<a href=\"https://colab.research.google.com/github/raghuladhitya/FinalYearProjectCode/blob/main/Untitled4.ipynb\" target=\"_parent\"><img src=\"https://colab.research.google.com/assets/colab-badge.svg\" alt=\"Open In Colab\"/></a>"
      ]
    },
    {
      "cell_type": "code",
      "metadata": {
        "colab": {
          "base_uri": "https://localhost:8080/"
        },
        "id": "1_zIozvQ4R1c",
        "outputId": "9b2fd6fe-b433-459e-9510-e80f5077e157"
      },
      "source": [
        "from google.colab import drive\n",
        "drive.mount('/content/drive')"
      ],
      "execution_count": 2,
      "outputs": [
        {
          "output_type": "stream",
          "text": [
            "Mounted at /content/drive\n"
          ],
          "name": "stdout"
        }
      ]
    },
    {
      "cell_type": "code",
      "metadata": {
        "colab": {
          "base_uri": "https://localhost:8080/"
        },
        "id": "z6DHqsSy5Bpi",
        "outputId": "990664e8-4515-4f73-96a0-cf9371faf26c"
      },
      "source": [
        "def main():\n",
        "    # Access folder in filesystem\n",
        "\n",
        "    # After parsing content of file, move to next file\n",
        "\n",
        "    # Declare variable empty list\n",
        "    lineList = []\n",
        "\n",
        "    # read file line by line\n",
        "    file = open( \"drive/MyDrive/new_file.srt\", \"r\")\n",
        "    lines = file.readlines()\n",
        "    file.close()\n",
        "\n",
        "    # look for patterns and parse\n",
        "\n",
        "    # Remove blank lines from file\n",
        "    lines = [i for i in lines if i[:-1]]\n",
        "    \n",
        "    # Discount first and second line of each segment using a match pattern\n",
        "    for i in lines:\n",
        "        lineList.append(i.strip(\"\\n\"))\n",
        "    FinalLineList,TimeStamp = [],[]\n",
        "    for i in range(len(lineList)):\n",
        "        if(lineList[i].isnumeric()):\n",
        "            for j in range(i+1,len(lineList)):\n",
        "                if(lineList[j].isnumeric()):\n",
        "                     FinalLineList.append(\"\".join(lineList[i+2:j]))\n",
        "                     TimeStamp.append(\"\".join(lineList[i+1]))\n",
        "                     break\n",
        "    print(TimeStamp)\n",
        "    print(FinalLineList)\n",
        "    \n",
        "\n",
        "main()\n",
        "\n"
      ],
      "execution_count": 125,
      "outputs": [
        {
          "output_type": "stream",
          "text": [
            "['00:00:12,790 --> 00:00:15,670', '00:00:15,670 --> 00:00:17,190', '00:00:17,190 --> 00:00:18,710', '00:00:18,710 --> 00:00:21,260', '00:00:21,260 --> 00:00:22,430', '00:00:22,430 --> 00:00:23,750', '00:00:23,750 --> 00:00:27,270', '00:00:27,270 --> 00:00:29,130', '00:00:29,130 --> 00:00:32,340', '00:00:32,340 --> 00:00:34,760', '00:00:34,760 --> 00:00:42,100', '00:00:42,100 --> 00:00:46,970', '00:00:46,970 --> 00:00:47,970', '00:00:47,970 --> 00:00:52,400', '00:00:52,400 --> 00:00:58,620', '00:00:58,620 --> 00:00:59,900', '00:00:59,900 --> 00:01:00,900', '00:01:00,900 --> 00:01:09,580', '00:01:09,580 --> 00:01:13,960', '00:01:13,960 --> 00:01:15,040', '00:01:15,040 --> 00:01:16,040', '00:01:16,040 --> 00:01:17,040', '00:01:17,040 --> 00:01:21,530', '00:01:21,530 --> 00:01:26,620', '00:01:26,620 --> 00:01:34,050', '00:01:34,050 --> 00:01:39,030', '00:01:39,030 --> 00:01:45,299', '00:01:45,299 --> 00:01:50,720', '00:01:50,720 --> 00:01:52,240', '00:01:52,240 --> 00:01:59,409', '00:01:59,409 --> 00:02:02,420', '00:02:02,420 --> 00:02:05,000', '00:02:05,000 --> 00:02:10,229', '00:02:10,229 --> 00:02:15,819', '00:02:15,819 --> 00:02:17,629', '00:02:17,629 --> 00:02:18,629', '00:02:18,629 --> 00:02:21,060', '00:02:21,060 --> 00:02:25,590', '00:02:25,590 --> 00:02:30,709', '00:02:30,709 --> 00:02:31,709', '00:02:31,709 --> 00:02:36,819', '00:02:36,819 --> 00:02:40,069', '00:02:40,069 --> 00:02:41,489', '00:02:41,489 --> 00:02:44,499', '00:02:44,499 --> 00:02:51,359', '00:02:51,359 --> 00:02:53,540', '00:02:53,540 --> 00:02:54,569', '00:02:54,569 --> 00:02:57,579', '00:02:57,579 --> 00:03:06,299', '00:03:06,299 --> 00:03:14,049', '00:03:14,049 --> 00:03:20,310', '00:03:20,310 --> 00:03:21,920', '00:03:21,920 --> 00:03:27,909', '00:03:27,909 --> 00:03:31,360', '00:03:31,360 --> 00:03:32,370', '00:03:32,370 --> 00:03:37,940', '00:03:37,940 --> 00:03:42,139', '00:03:42,139 --> 00:03:44,739', '00:03:44,739 --> 00:03:49,180', '00:03:49,180 --> 00:03:55,519', '00:03:55,519 --> 00:03:57,069', '00:03:57,069 --> 00:04:01,609', '00:04:01,609 --> 00:04:03,189', '00:04:03,189 --> 00:04:05,739', '00:04:05,739 --> 00:04:06,739', '00:04:06,739 --> 00:04:08,499', '00:04:08,499 --> 00:04:14,110', '00:04:14,110 --> 00:04:15,139', '00:04:15,139 --> 00:04:16,139', '00:04:16,139 --> 00:04:17,139', '00:04:17,139 --> 00:04:21,779', '00:04:21,779 --> 00:04:30,840', '00:04:30,840 --> 00:04:33,500', '00:04:33,500 --> 00:04:36,230', '00:04:36,230 --> 00:04:40,780', '00:04:40,780 --> 00:04:47,150', '00:04:47,150 --> 00:04:51,250', '00:04:51,250 --> 00:04:59,790', '00:04:59,790 --> 00:05:03,100', '00:05:03,100 --> 00:05:12,500', '00:05:12,500 --> 00:05:16,910', '00:05:16,910 --> 00:05:23,510', '00:05:23,510 --> 00:05:27,670', '00:05:27,670 --> 00:05:29,120', '00:05:29,120 --> 00:05:31,760', '00:05:31,760 --> 00:05:38,660', '00:05:38,660 --> 00:05:39,660', '00:05:39,660 --> 00:05:42,060', '00:05:42,060 --> 00:05:46,970', '00:05:46,970 --> 00:05:48,570', '00:05:48,570 --> 00:05:55,010', '00:05:55,010 --> 00:06:00,600', '00:06:00,600 --> 00:06:02,880', '00:06:02,880 --> 00:06:03,880', '00:06:03,880 --> 00:06:07,720', '00:06:07,720 --> 00:06:09,210', '00:06:09,210 --> 00:06:16,360', '00:06:16,360 --> 00:06:18,890', '00:06:18,890 --> 00:06:23,890', '00:06:23,890 --> 00:06:27,010', '00:06:27,010 --> 00:06:33,590', '00:06:33,590 --> 00:06:35,140']\n",
            "['Hello.', 'How are you?', 'All good?', 'Congratulations to all the winners.', 'Super, super proud.', \"I'm nobody to tell this.\", 'But thank you so much for all your hard work.', \"And I'm so glad to be here.\", 'Thank you so much for all of you invitingme.', 'Thank you, means a lot.', \"So I had one speech prepared for the gathering,but I don't know if somewhere someone had\", 'told me you have to tell your, you know, lifestory.', 'Anyway.', \"So I don't think my life story is good enoughfor this gathering.\", \"So what I'm going to do is it's called SHEEmpowerment.\", 'Where do I start?', 'Okay.', 'So, generally, I\\'ve been called, you know,\"the smiling Queen,\" or something they say', 'out there, but is it too loud? should I?', 'Is it fine?', 'Okay.', 'Okay.', 'So yeah, like I was saying, I always beencalled \"the smiling Queen.\"', 'And I, yes, of course, I always, always keepsmiling.', 'For all the love I get for all the appreciationI get from all of you who watch my films.', 'But you know, one of the other reasons whyI smile?', \"All of us, I'm pretty sure that all the girlshere, smile through the sadness, through the\", 'loneliness, through the anger, through thefrustration, smile is a superpower, you know.', 'Yeah, same thing with me.', \"I keep doing it, and one day, I keep thinking,I'll keep smiling till that day where my smile\", 'turns into a real one from the heart.', 'But yes, this is a superpower.', \"And that's why women are, I think, the mostpure.\", \"I don't know, I don't know how to say themother is a purest being in the whole world\", 'is what they say, right?', 'Yeah.', \"I'm so glad to be born a girl.\", \"I'm so glad to be born a girl in this generation.\", \"Having such people protect us with all thatthey've got.\", \"I don't know.\", \"I'm just super glad, super proud, and yeah,well.\", 'So let me just start introducing myself.', \"I'm Rashmika.\", 'For all those who know me a big, big Hi!', \"And for all those who don't well, I'm an actorin the southern industry, and I hope soon\", 'you all get to know me as well.', \"That's for my introduction.\", \"I don't think I should go on more on that.\", 'Well, since I was a really small girl, I stillremember all that my mother said was you should', 'never let someone else see you angry, seeyou cry, see you feel any of the negative', \"emotions because apparently, that's, that'sshowing your weakness, right?\", \"That's what my mom has always told me.\", \"And I think that's one of the reasons whyI just don't know what else to do now.\", 'I actually genuinely do not know how to cry.', 'Do you know that?', 'Like, I have to work so hard to actually cryon screen, I cannot do it.', 'And I look like an idiot when I cry on stage.', \"I mean cry on screen, I'm sorry.\", \"So yeah, I think that is the one thing I can'tdo.\", \"But I don't know, I don't know, I don't knowwhat to say nowadays I see women doing so\", 'many things.', 'Women accomplishing so many things in differentfields.', 'And I feel too little.', 'I feel like, what am I doing?', \"I don't know.\", 'Is it good enough?', 'Is it enough for me to get all of this loveand appreciation for something so small that', \"I'm doing?\", \"I don't know.\", \"I don't.\", 'I still feel like this is not enough, andI want to do a lot more.', \"And well, I'm just a girl from a small townin Karnataka called Virajpet in Kodagu district.\", \"I don't know if you guys are aware of it.\", \"From there I don't know how my life has happened.\", \"I don't know at the age of 23; I'm here talkingto such a gathering.\", \"But I'm, I'm glad that I am, and I don't knowif I want to say that I'm proud of myself\", \"yet because I don't think I'm done yet.\", \"I've just started, and I feel like I'm inthe process of getting myself a huge, big\", \"loving kingdom that I'm going to create formyself.\", 'And why I started saying this is if I, a girlfrom Kodagu, can do this then imagine you', \"guys from Hyderabad what you're capable of.\", 'I think women are capable of doing anythingthey want in this world.', 'And I hope one day all of you make your dreamscome true.', 'Please dream big.', \"I'm sorry if the speech is too boring.\", 'But I just want to say, dream big, do notgive a break, keep working hard, keep working', 'hard.', \"It's okay if someone is laughing at you.\", \"It's okay if someone is pulling your leg,pulling you back down, it's okay.\", 'You just keep working hard.', 'You just keep looking up at the sky and reachyour goals no matter what anyone else says.', 'Because if you cannot protect yourself anddream for yourself, nobody else can.', 'Truly, trust me.', \"I've been there.\", \"I've done that, and now I'm in the processof getting there, and I think I will get there\", 'pretty soon.', 'I hope all of you join me and thank you somuch for doing such a wonderful program like', 'this and having me as a part of it.', \"Means a lot, feel really, I'm truly gratefulhonestly.\", 'Thank you so much, and sorry if I have boredyou.', 'But I just wanted to say we are here to protectyou, and I hope you reach your dreams you', 'make your dreams come true.']\n",
            "Hello.  How are you?  All good?  Congratulations to all the winners.  Super, super proud.  I'm nobody to tell this.  But thank you so much for all your hard work.  And I'm so glad to be here.  Thank you so much for all of you invitingme.  Thank you, means a lot.  So I had one speech prepared for the gathering,but I don't know if somewhere someone had  told me you have to tell your, you know, lifestory.  Anyway.  So I don't think my life story is good enoughfor this gathering.  So what I'm going to do is it's called SHEEmpowerment.  Where do I start?  Okay.  So, generally, I've been called, you know,\"the smiling Queen,\" or something they say  out there, but is it too loud? should I?  Is it fine?  Okay.  Okay.  So yeah, like I was saying, I always beencalled \"the smiling Queen.\"  And I, yes, of course, I always, always keepsmiling.  For all the love I get for all the appreciationI get from all of you who watch my films.  But you know, one of the other reasons whyI smile?  All of us, I'm pretty sure that all the girlshere, smile through the sadness, through the  loneliness, through the anger, through thefrustration, smile is a superpower, you know.  Yeah, same thing with me.  I keep doing it, and one day, I keep thinking,I'll keep smiling till that day where my smile  turns into a real one from the heart.  But yes, this is a superpower.  And that's why women are, I think, the mostpure.  I don't know, I don't know how to say themother is a purest being in the whole world  is what they say, right?  Yeah.  I'm so glad to be born a girl.  I'm so glad to be born a girl in this generation.  Having such people protect us with all thatthey've got.  I don't know.  I'm just super glad, super proud, and yeah,well.  So let me just start introducing myself.  I'm Rashmika.  For all those who know me a big, big Hi!  And for all those who don't well, I'm an actorin the southern industry, and I hope soon  you all get to know me as well.  That's for my introduction.  I don't think I should go on more on that.  Well, since I was a really small girl, I stillremember all that my mother said was you should  never let someone else see you angry, seeyou cry, see you feel any of the negative  emotions because apparently, that's, that'sshowing your weakness, right?  That's what my mom has always told me.  And I think that's one of the reasons whyI just don't know what else to do now.  I actually genuinely do not know how to cry.  Do you know that?  Like, I have to work so hard to actually cryon screen, I cannot do it.  And I look like an idiot when I cry on stage.  I mean cry on screen, I'm sorry.  So yeah, I think that is the one thing I can'tdo.  But I don't know, I don't know, I don't knowwhat to say nowadays I see women doing so  many things.  Women accomplishing so many things in differentfields.  And I feel too little.  I feel like, what am I doing?  I don't know.  Is it good enough?  Is it enough for me to get all of this loveand appreciation for something so small that  I'm doing?  I don't know.  I don't.  I still feel like this is not enough, andI want to do a lot more.  And well, I'm just a girl from a small townin Karnataka called Virajpet in Kodagu district.  I don't know if you guys are aware of it.  From there I don't know how my life has happened.  I don't know at the age of 23; I'm here talkingto such a gathering.  But I'm, I'm glad that I am, and I don't knowif I want to say that I'm proud of myself  yet because I don't think I'm done yet.  I've just started, and I feel like I'm inthe process of getting myself a huge, big  loving kingdom that I'm going to create formyself.  And why I started saying this is if I, a girlfrom Kodagu, can do this then imagine you  guys from Hyderabad what you're capable of.  I think women are capable of doing anythingthey want in this world.  And I hope one day all of you make your dreamscome true.  Please dream big.  I'm sorry if the speech is too boring.  But I just want to say, dream big, do notgive a break, keep working hard, keep working  hard.  It's okay if someone is laughing at you.  It's okay if someone is pulling your leg,pulling you back down, it's okay.  You just keep working hard.  You just keep looking up at the sky and reachyour goals no matter what anyone else says.  Because if you cannot protect yourself anddream for yourself, nobody else can.  Truly, trust me.  I've been there.  I've done that, and now I'm in the processof getting there, and I think I will get there  pretty soon.  I hope all of you join me and thank you somuch for doing such a wonderful program like  this and having me as a part of it.  Means a lot, feel really, I'm truly gratefulhonestly.  Thank you so much, and sorry if I have boredyou.  But I just wanted to say we are here to protectyou, and I hope you reach your dreams you  make your dreams come true.  \n"
          ],
          "name": "stdout"
        }
      ]
    }
  ]
}